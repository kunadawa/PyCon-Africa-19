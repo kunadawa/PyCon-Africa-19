{
 "cells": [
  {
   "cell_type": "markdown",
   "metadata": {},
   "source": [
    "<img src=\"download.jpg\">\n",
    "\n",
    "### DATA VISUALIZATION FOR INSIGHTS\n",
    "#### PyCon Africa 2019 Workshop\n",
    "\n",
    "#### Delivered by: <b>Rising Odegua</b>\n",
    "\n",
    "#### Table of Contents\n",
    "<ul>\n",
    "    <li>Introduction to visualization</li>\n",
    "    <li>Popular Python libraries for visualization</li>\n",
    "    <li>Introduction to Seaborn</li>\n",
    "    <li>Environment Setup and dataset</li>\n",
    "    <li>Univariate plots</li>\n",
    "    <li>Bivariate plots</li>\n",
    "    <li>Multivariate plots</li>\n",
    "    <li>Numerical features against categorical features</li>\n",
    "    <li>Categorical features against numerical features</li>\n",
    "    <li>Visualization for TimeSeries \n",
    "    <li>Extra visualizations</li>\n",
    "\n",
    "</ul>\n",
    "\n",
    "#### Introduction to visualization\n",
    "\n",
    "Data visualization is simply presenting data in graphical or pictorial form which makes the information\n",
    "easy to understand. It helps to explain facts and determine courses of action. \n",
    "\n",
    "Python has numerous visualization libraries that come packed with lots of different features. Most of these libraries are general purposed while some are specific to a task. \n",
    "\n",
    "<img src=\"Capture.PNG\">\n",
    "\n",
    "\n",
    "Popular Python libraries for visualization:\n",
    "\n",
    "<ul>\n",
    "    <li>Matplotlib: The OG of visualization, most libraries build ontop of it.</li>\n",
    "    <li>Seaborn: High level viz library built ontop of Matplotlib. Offers intuitive and simple interface</li>\n",
    "    <li>ggplot: Based on the popular R ggplot</li>\n",
    "    <li>Plotly: Useful for clean interactive plots. Has online publishing options</li>\n",
    "    <li>Bokeh: Similar to Plotly, great for interactive web-ready plots.</li>\n",
    "    <li>geoplotlib: Great for geographical plotting</li>\n",
    "\n",
    "</ul>\n",
    "\n",
    "Find more [here](https://www.anaconda.com/python-data-visualization-2018-where-do-we-go-from-here/)\n",
    "\n",
    "\n",
    "In this workshop, the main aim is to teach you how to analyze a dataset using the seaborn library and how to interpret it. \n",
    "\n",
    "#### Introduction to Seaborn\n",
    "Seaborn is built on top of Python’s core visualization library Matplotlib. Seaborn comes with some very important features that makes it easy to use. Some of these features are:\n",
    "<ul>\n",
    "    <li>Visualizing univariate and bivariate data.</li>\n",
    "    <li>Fitting and visualizing linear regression models.</li>\n",
    "    <li>Plotting statistical time series data.</li>\n",
    "    <li>Seaborn works well with NumPy and Pandas data structures</li>\n",
    "    <li>Built in themes for styling Matplotlib graphics</li>\n",
    " </ul>\n",
    "Note: The knowledge of Matplotlib is recommended to tweak Seaborn’s default plots.\n"
   ]
  },
  {
   "cell_type": "markdown",
   "metadata": {},
   "source": [
    "#### Environment Setup and Dataset\n",
    "\n",
    "There are multiple ways to install seaborn:\n",
    "\n",
    "<b>pip:</b> ``` \"pip install seaborn\" ```\n",
    "\n",
    "<b>anaconda: </b>``` \" conda install seaborn\" ```\n",
    "\n",
    "<b>from Github:</b> ``` \"pip install git+https://github.com/mwaskom/seaborn.git\"```\n",
    "\n",
    "#### Dataset\n",
    "\n",
    "Seaborn comes pre-packaged with a couple of data sets. We'll use some of them depending on the task we are trying to explain."
   ]
  },
  {
   "cell_type": "code",
   "execution_count": null,
   "metadata": {},
   "outputs": [],
   "source": [
    "import seaborn as sb\n",
    "import numpy as np\n",
    "import matplotlib.pyplot as plt\n",
    "import pandas as pd\n",
    "\n",
    "#Print the list of data sets available in seaborn\n",
    "tips_df = sb.load_dataset('tips')\n",
    "titanic_df = sb.load_dataset('titanic')\n",
    "flights_df = sb.load_dataset('flights')\n"
   ]
  },
  {
   "cell_type": "markdown",
   "metadata": {},
   "source": [
    "Take a peek at the data sets"
   ]
  },
  {
   "cell_type": "code",
   "execution_count": null,
   "metadata": {},
   "outputs": [],
   "source": [
    "tips_df.head()"
   ]
  },
  {
   "cell_type": "code",
   "execution_count": null,
   "metadata": {},
   "outputs": [],
   "source": [
    "titanic_df.head()"
   ]
  },
  {
   "cell_type": "code",
   "execution_count": null,
   "metadata": {},
   "outputs": [],
   "source": [
    "flights_df.head()"
   ]
  },
  {
   "cell_type": "markdown",
   "metadata": {},
   "source": [
    "#### Univariate plots\n",
    "\n",
    "Univariate plots shows the distribution of a feature (one feature). For univarate plots we can make plots like Bar Graphs and Histograms. In seaborn we can use the distplot function.\n",
    "\n",
    "#### Distplot"
   ]
  },
  {
   "cell_type": "code",
   "execution_count": null,
   "metadata": {},
   "outputs": [],
   "source": [
    "sb.distplot(tips_df['total_bill'], color='r')\n",
    "plt.title(\"Distribution of total bills\")\n",
    "plt.show()"
   ]
  },
  {
   "cell_type": "markdown",
   "metadata": {},
   "source": [
    "The distribution of total_bills shows that the bills is normally distributed and centered around 10-40. "
   ]
  },
  {
   "cell_type": "code",
   "execution_count": null,
   "metadata": {},
   "outputs": [],
   "source": [
    "sb.distplot(titanic_df['fare'], color='g')\n",
    "plt.title(\"Distribution of fare in titanic\")\n",
    "plt.show()"
   ]
  },
  {
   "cell_type": "markdown",
   "metadata": {},
   "source": [
    "The distribution plot of fare in titanic shows that the fare prices is right skewed as majority of the prices are within 0-100. This means that there were more cheaper fare tickets than expensive ones.\n",
    "\n",
    "#### Barplots"
   ]
  },
  {
   "cell_type": "code",
   "execution_count": null,
   "metadata": {},
   "outputs": [],
   "source": [
    "tips_df.head(2)"
   ]
  },
  {
   "cell_type": "code",
   "execution_count": null,
   "metadata": {},
   "outputs": [],
   "source": [
    "sb.countplot(tips_df['time'])\n",
    "plt.title(\"Count of Sex\")\n",
    "plt.show()"
   ]
  },
  {
   "cell_type": "markdown",
   "metadata": {},
   "source": [
    "#### Bivariate Plots\n",
    "\n",
    "Bivariate Plots are used when we want to compare two variables together. Bivariate plots show relationship between two variables.\n",
    "\n",
    "#### Scatter Plot"
   ]
  },
  {
   "cell_type": "code",
   "execution_count": null,
   "metadata": {},
   "outputs": [],
   "source": [
    "tips_df.head(2)"
   ]
  },
  {
   "cell_type": "code",
   "execution_count": null,
   "metadata": {},
   "outputs": [],
   "source": [
    "sb.scatterplot(x='total_bill', y='tip', data=tips_df)\n",
    "plt.title(\"Scatterplot of Total_bill vs. Tips\")\n",
    "plt.show()"
   ]
  },
  {
   "cell_type": "code",
   "execution_count": null,
   "metadata": {},
   "outputs": [],
   "source": [
    "sb.scatterplot(x='age', y='fare', data=titanic_df)\n",
    "plt.title(\"Scatterplot of Age vs. Fare\")\n",
    "plt.show()"
   ]
  },
  {
   "cell_type": "code",
   "execution_count": null,
   "metadata": {},
   "outputs": [],
   "source": [
    "sb.jointplot(x='total_bill', y='tip', data=tips_df)\n",
    "plt.show()"
   ]
  },
  {
   "cell_type": "markdown",
   "metadata": {},
   "source": [
    "When you have sparse data, the hex or kde plot is better than scatterplot."
   ]
  },
  {
   "cell_type": "code",
   "execution_count": null,
   "metadata": {},
   "outputs": [],
   "source": [
    "sb.jointplot(x='total_bill', y='tip', data=tips_df, kind='hex')\n",
    "plt.show()"
   ]
  },
  {
   "cell_type": "markdown",
   "metadata": {},
   "source": [
    "#### Multivariate plots\n",
    "\n",
    "Multivariate plots can show the relationship between three or more features. In seaborn, the popular hue parameter can be used to seperate features in multiple dimensions."
   ]
  },
  {
   "cell_type": "code",
   "execution_count": null,
   "metadata": {},
   "outputs": [],
   "source": [
    "sb.scatterplot(x='total_bill', y='tip', data=tips_df, hue='sex')\n",
    "plt.show()"
   ]
  },
  {
   "cell_type": "code",
   "execution_count": null,
   "metadata": {},
   "outputs": [],
   "source": [
    "titanic_df.head()"
   ]
  },
  {
   "cell_type": "code",
   "execution_count": null,
   "metadata": {},
   "outputs": [],
   "source": [
    "sb.scatterplot(x='age', y='fare', data=titanic_df, hue='class')\n",
    "plt.title(\"Scatterplot of Age vs. Fare\")\n",
    "plt.show()"
   ]
  },
  {
   "cell_type": "code",
   "execution_count": null,
   "metadata": {},
   "outputs": [],
   "source": [
    "sb.barplot(x='sex', y='fare', data=titanic_df, hue='class')\n",
    "plt.show()"
   ]
  },
  {
   "cell_type": "markdown",
   "metadata": {},
   "source": [
    "#### PairWise Plots\n",
    "\n",
    "Pairwise plots shows the distributions of multiple features in a dataset. In seaborn, you can use the pairplot() function. This shows the relationship between features in a DataFrame as a matrix of plots and the diagonal plots are the univariate plots."
   ]
  },
  {
   "cell_type": "code",
   "execution_count": null,
   "metadata": {},
   "outputs": [],
   "source": [
    "sb.pairplot(tips_df, hue='sex', diag_kind='hist')\n",
    "plt.show()"
   ]
  },
  {
   "cell_type": "markdown",
   "metadata": {},
   "source": [
    "### Numerical features against categorical features\n",
    "\n",
    "Numerical features are features with continous data points. We can use two popular plot to observe the distribution and variablity of these features.\n",
    "\n",
    "#### Boxplot\n",
    "Boxplot is a convenient way to visualize the distribution of data through their quartiles.\n",
    "Box plots usually have vertical lines extending from the boxes which are called whiskers . These whiskers indicate variability outside the upper and lower quartiles. Any Outlier in the data is plotted as individual points."
   ]
  },
  {
   "cell_type": "code",
   "execution_count": null,
   "metadata": {},
   "outputs": [],
   "source": [
    "titanic_df.head(2)"
   ]
  },
  {
   "cell_type": "code",
   "execution_count": null,
   "metadata": {},
   "outputs": [],
   "source": [
    "sb.boxplot(x='survived', y='age',  data=titanic_df)\n",
    "plt.show()"
   ]
  },
  {
   "cell_type": "markdown",
   "metadata": {},
   "source": [
    "You can add a third dimension to the box plot using the hue parameter. "
   ]
  },
  {
   "cell_type": "code",
   "execution_count": null,
   "metadata": {},
   "outputs": [],
   "source": [
    "sb.boxplot(x='survived', y='age', hue='class', data=titanic_df)\n",
    "plt.show()"
   ]
  },
  {
   "cell_type": "markdown",
   "metadata": {},
   "source": [
    "#### Violin Plot\n",
    "\n",
    "Violin Plots is simply a combination of the box plot with the kernel density estimates. These plots are prefered when you want to analyze and understand the distribution of the data."
   ]
  },
  {
   "cell_type": "code",
   "execution_count": null,
   "metadata": {},
   "outputs": [],
   "source": [
    "flights_df.head()"
   ]
  },
  {
   "cell_type": "code",
   "execution_count": null,
   "metadata": {},
   "outputs": [],
   "source": [
    "sb.violinplot(x='sex', y='total_bill', data=tips_df)\n",
    "plt.show()"
   ]
  },
  {
   "cell_type": "code",
   "execution_count": null,
   "metadata": {},
   "outputs": [],
   "source": [
    "sb.violinplot(x='month', y='passengers', data=flights_df)\n",
    "plt.xticks(rotation=90)\n",
    "plt.show()"
   ]
  },
  {
   "cell_type": "markdown",
   "metadata": {},
   "source": [
    "### Categorical features against numerical features.\n",
    "\n",
    "W hen one or both the variables under study are categorical, we use plots like striplot(),\n",
    "swarm plot(), etc,. Seaborn provides interface to do so"
   ]
  },
  {
   "cell_type": "code",
   "execution_count": null,
   "metadata": {},
   "outputs": [],
   "source": [
    "sb.stripplot(x='class', y='fare', data=titanic_df, hue='alive')\n",
    "plt.show()"
   ]
  },
  {
   "cell_type": "code",
   "execution_count": null,
   "metadata": {},
   "outputs": [],
   "source": [
    "tips_df.head(2)"
   ]
  },
  {
   "cell_type": "code",
   "execution_count": null,
   "metadata": {},
   "outputs": [],
   "source": [
    "sb.swarmplot(x='smoker', y='tip', data=tips_df)\n",
    "plt.show()"
   ]
  },
  {
   "cell_type": "markdown",
   "metadata": {},
   "source": [
    "### VISUALIZATION FOR TIMESERIES DATA\n",
    "\n",
    "Timeseries data are common types of data set in data analytics.\n",
    "A time series is any data set where the values are measured at different points in time. Many time series are uniformly spaced at a specific frequency, for example, hourly weather measurements, daily counts of web site visits, or monthly sales totals.\n",
    "\n",
    "in this section, we'll focus on :\n",
    "\n",
    "Preparing a dataframe for timeseries visualization.\n",
    "\n",
    "Basic line plots.\n",
    "\n",
    "Seasonality.\n",
    "\n",
    "To work with time series data in pandas, we have to convert the Date feature into a pandas DateTimeIndex and then we use a DatetimeIndex as the index for our DataFrame (or Series). \n"
   ]
  },
  {
   "cell_type": "code",
   "execution_count": null,
   "metadata": {},
   "outputs": [],
   "source": [
    "time_Series_df = pd.read_csv(\"opsd_germany_daily.csv\")\n",
    "time_Series_df.head()"
   ]
  },
  {
   "cell_type": "code",
   "execution_count": null,
   "metadata": {},
   "outputs": [],
   "source": [
    "time_Series_df.dtypes"
   ]
  },
  {
   "cell_type": "code",
   "execution_count": null,
   "metadata": {},
   "outputs": [],
   "source": [
    "time_Series_df['Date'] = pd.to_datetime(time_Series_df['Date'])\n",
    "time_Series_df = time_Series_df.set_index('Date')\n",
    "time_Series_df.head()"
   ]
  },
  {
   "cell_type": "code",
   "execution_count": null,
   "metadata": {},
   "outputs": [],
   "source": [
    "# Add extra features (Year, Month, Weekday)\n",
    "\n",
    "time_Series_df['weekday'] = time_Series_df.index.weekday_name\n",
    "time_Series_df['month'] = time_Series_df.index.month\n",
    "time_Series_df['year'] = time_Series_df.index.year\n",
    "\n",
    "time_Series_df.head()"
   ]
  },
  {
   "cell_type": "code",
   "execution_count": null,
   "metadata": {},
   "outputs": [],
   "source": [
    "time_Series_df['Consumption'].plot()\n",
    "plt.title(\"Timeseries line plot\")\n",
    "plt.show()"
   ]
  },
  {
   "cell_type": "code",
   "execution_count": null,
   "metadata": {},
   "outputs": [],
   "source": [
    "cols_plot = ['Consumption', 'Solar', 'Wind']\n",
    "axes = time_Series_df[cols_plot].plot(marker='.', linestyle='None', figsize=(12, 8), subplots=True)\n",
    "for ax in axes:\n",
    "    ax.set_ylabel('Daily Totals (GWh)')\n",
    "    "
   ]
  },
  {
   "cell_type": "markdown",
   "metadata": {},
   "source": [
    "All three time series clearly exhibit periodicity—often referred to as seasonality in time series analysis—in which a pattern repeats again and again at regular time intervals. The Consumption, Solar, and Wind time series oscillate between high and low values on a yearly time scale, corresponding with the seasonal changes in weather over the year. However, seasonality in general does not have to correspond with the meteorological seasons. For example, retail sales data often exhibits yearly seasonality with increased sales in November and December, leading up to the holidays."
   ]
  },
  {
   "cell_type": "code",
   "execution_count": null,
   "metadata": {},
   "outputs": [],
   "source": [
    "ax = time_Series_df.loc['2016', 'Consumption'].plot()\n",
    "ax.set_ylabel('Daily Consumption (GWh)');"
   ]
  },
  {
   "cell_type": "markdown",
   "metadata": {},
   "source": [
    "Now we can clearly see the weekly oscillations. Another interesting feature that becomes apparent at this level of granularity is the drastic decrease in electricity consumption in early January and late December, during the holidays."
   ]
  },
  {
   "cell_type": "code",
   "execution_count": null,
   "metadata": {},
   "outputs": [],
   "source": [
    "ax = time_Series_df.loc['2016-01':'2016-01', 'Consumption'].plot(marker='o', linestyle='-')\n",
    "ax.set_ylabel('Daily Consumption (GWh)');"
   ]
  },
  {
   "cell_type": "markdown",
   "metadata": {},
   "source": [
    "As we suspected, consumption is highest on weekdays and lowest on weekends."
   ]
  },
  {
   "cell_type": "code",
   "execution_count": null,
   "metadata": {},
   "outputs": [],
   "source": [
    "fig, axes = plt.subplots(3, 1, figsize=(11, 10), sharex=True)\n",
    "\n",
    "for name, ax in zip(['Consumption', 'Solar', 'Wind'], axes):\n",
    "    sb.boxplot(data=time_Series_df, x='month', y=name, ax=ax)\n",
    "    ax.set_ylabel('GWh')\n",
    "    ax.set_title(name)\n",
    "    # Remove the automatic x-axis label from all but the bottom subplot\n",
    "    if ax != axes[-1]:\n",
    "        ax.set_xlabel('')\n"
   ]
  },
  {
   "cell_type": "markdown",
   "metadata": {},
   "source": [
    "These box plots confirm the yearly seasonality that we saw in earlier plots and provide some additional insights:\n",
    "* Although electricity consumption is generally higher in winter and lower in summer, the median and lower two quartiles are lower in December and January compared to November and February, likely due to businesses being closed over the holidays. We saw this in the time series for the year 2017, and the box plot confirms that this is consistent pattern throughout the years.\n",
    "* While solar and wind power production both exhibit a yearly seasonality, the wind power distributions have many more outliers, reflecting the effects of occasional extreme wind speeds associated with storms and other transient weather conditions."
   ]
  },
  {
   "cell_type": "code",
   "execution_count": null,
   "metadata": {},
   "outputs": [],
   "source": [
    "sb.boxplot(data=time_Series_df, x='weekday', y='Consumption');\n",
    "plt.xticks(rotation=90)\n",
    "plt.show()"
   ]
  },
  {
   "cell_type": "markdown",
   "metadata": {},
   "source": [
    "As expected, electricity consumption is significantly higher on weekdays than on weekends. The low outliers on weekdays are presumably during holidays."
   ]
  },
  {
   "cell_type": "markdown",
   "metadata": {},
   "source": [
    "#### Extra Visualizations\n",
    "\n",
    "#### PointPlots\n",
    "Point plots serve same as bar plots but in a different style. R ather than the full bar, the value of the estimate is represented by the point at a certain height on the other axis."
   ]
  },
  {
   "cell_type": "code",
   "execution_count": null,
   "metadata": {},
   "outputs": [],
   "source": [
    "sb.pointplot(x=\"sex\", y=\"survived\", hue=\"class\", data=titanic_df)\n",
    "plt.show()"
   ]
  },
  {
   "cell_type": "markdown",
   "metadata": {},
   "source": [
    "Facet Grid\n",
    "\n",
    "Facet grid form s a m atrix of panels de fined by row and column by dividing the\n",
    "variables. Due of panels, a single plot looks like m ultiple plots. I t is very helpful to analyze all combinations in two discrete variables.\n",
    "Let us visualize the above the de finition with an example."
   ]
  },
  {
   "cell_type": "code",
   "execution_count": null,
   "metadata": {},
   "outputs": [],
   "source": [
    "sb.catplot(x=\"class\", y=\"fare\", hue=\"survived\", kind='strip',\n",
    "           col=\"sex\", col_wrap=2, data=titanic_df)\n",
    "plt.show()"
   ]
  },
  {
   "cell_type": "markdown",
   "metadata": {},
   "source": [
    "#### Correlation Plots\n",
    "\n",
    "W hile building the regression m odels, we often check for multicollinearity, where we\n",
    "had to see the correlation between all the combinations of continuous variables and will\n",
    "take necessary action to rem ove m ulticollinearity if exists. In such cases, the following\n",
    "techniques helps. \n",
    "\n",
    "There are two m ain functions in Seaborn to visualize a linear relationship determined\n",
    "through regression. These functions are regplot() and lmplot()."
   ]
  },
  {
   "cell_type": "code",
   "execution_count": null,
   "metadata": {},
   "outputs": [],
   "source": [
    "sb.regplot(x=\"total_bill\", y=\"tip\", data=tips_df)\n",
    "plt.show()"
   ]
  },
  {
   "cell_type": "code",
   "execution_count": null,
   "metadata": {},
   "outputs": [],
   "source": [
    "sb.lmplot(x=\"age\", y=\"fare\", data=titanic_df, order=2)\n",
    "plt.show()"
   ]
  },
  {
   "cell_type": "markdown",
   "metadata": {},
   "source": [
    "#### The End"
   ]
  },
  {
   "cell_type": "code",
   "execution_count": null,
   "metadata": {},
   "outputs": [],
   "source": []
  }
 ],
 "metadata": {
  "kernelspec": {
   "display_name": "Python 3",
   "language": "python",
   "name": "python3"
  },
  "language_info": {
   "codemirror_mode": {
    "name": "ipython",
    "version": 3
   },
   "file_extension": ".py",
   "mimetype": "text/x-python",
   "name": "python",
   "nbconvert_exporter": "python",
   "pygments_lexer": "ipython3",
   "version": "3.7.3"
  }
 },
 "nbformat": 4,
 "nbformat_minor": 4
}
